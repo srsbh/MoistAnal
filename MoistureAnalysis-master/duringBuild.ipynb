{
 "cells": [
  {
   "cell_type": "code",
   "execution_count": 1,
   "metadata": {},
   "outputs": [
    {
     "name": "stdout",
     "output_type": "stream",
     "text": [
      "Using matplotlib backend: TkAgg\n"
     ]
    }
   ],
   "source": [
    "import numpy as np\n",
    "import pandas as pd\n",
    "import easygui as gui\n",
    "import matplotlib.pyplot as plt\n",
    "import seaborn as sns\n",
    "%matplotlib "
   ]
  },
  {
   "cell_type": "code",
   "execution_count": 2,
   "metadata": {
    "collapsed": true
   },
   "outputs": [],
   "source": [
    "df=pd.read_csv('To plot - DuringBuilding.csv')\n",
    "df.columns=['Mound','percent']\n",
    "rn=dict(E='Admin',G='SEM',F='SLC')\n",
    "df.Mound=df.Mound.map(rn)"
   ]
  },
  {
   "cell_type": "code",
   "execution_count": 10,
   "metadata": {
    "collapsed": true
   },
   "outputs": [],
   "source": [
    "plt.figure(figsize=[18,18])\n",
    "\n",
    "f=sns.stripplot(x='Mound',y='percent',jitter=0.2,data=df,size=15,alpha=0.8)\n",
    "plt.axhline(y=30,ls='dashed',c=plt.cm.plasma_r(0.3,alpha=0.5),lw=5)\n",
    "plt.ylim(0,60)\n",
    "\n",
    "f.set_xlabel('Mound Location',fontsize=24)\n",
    "f.set_ylabel('Soil Moisture (w/w %)',fontsize=24)\n",
    "plt.ylim(0,30)\n",
    "\n",
    "\n",
    "sns.despine(offset=20, trim=True);\n",
    "\n",
    "\n",
    "plt.savefig('duringBuild.png',dpi=300,transparent = True)\n",
    "plt.savefig('duringBuild.svg',dpi=300,transparent = True)"
   ]
  },
  {
   "cell_type": "code",
   "execution_count": 51,
   "metadata": {},
   "outputs": [
    {
     "data": {
      "text/plain": [
       "(0.206756, 0.37175799999999998, 0.55311699999999997, 1.0)"
      ]
     },
     "execution_count": 51,
     "metadata": {},
     "output_type": "execute_result"
    }
   ],
   "source": [
    "plt.cm.viridis(0.3)"
   ]
  },
  {
   "cell_type": "code",
   "execution_count": null,
   "metadata": {
    "collapsed": true
   },
   "outputs": [],
   "source": []
  },
  {
   "cell_type": "code",
   "execution_count": null,
   "metadata": {
    "collapsed": true
   },
   "outputs": [],
   "source": []
  },
  {
   "cell_type": "code",
   "execution_count": null,
   "metadata": {
    "collapsed": true
   },
   "outputs": [],
   "source": []
  }
 ],
 "metadata": {
  "kernelspec": {
   "display_name": "Python 2",
   "language": "python",
   "name": "python2"
  },
  "language_info": {
   "codemirror_mode": {
    "name": "ipython",
    "version": 2
   },
   "file_extension": ".py",
   "mimetype": "text/x-python",
   "name": "python",
   "nbconvert_exporter": "python",
   "pygments_lexer": "ipython2",
   "version": "2.7.12"
  }
 },
 "nbformat": 4,
 "nbformat_minor": 2
}
