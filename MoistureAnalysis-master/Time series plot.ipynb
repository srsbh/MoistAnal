{
 "cells": [
  {
   "cell_type": "code",
   "execution_count": 1,
   "metadata": {},
   "outputs": [
    {
     "name": "stdout",
     "output_type": "stream",
     "text": [
      "Using matplotlib backend: TkAgg\n"
     ]
    }
   ],
   "source": [
    "import numpy as np\n",
    "import pandas as pd\n",
    "import easygui as gui\n",
    "import matplotlib.pyplot as plt\n",
    "import seaborn as sns\n",
    "%matplotlib "
   ]
  },
  {
   "cell_type": "code",
   "execution_count": 2,
   "metadata": {
    "collapsed": true
   },
   "outputs": [],
   "source": [
    "def dyPlotter(filepath=None,plotFold='/home/subhar/Desktop/xl/',ax=None):\n",
    "    \n",
    "    try:\n",
    "        if filepath is None:\n",
    "            filepath=gui.fileopenbox(default=dp,filetypes=['*.xls'])\n",
    "            \n",
    "#     filepath='/home/subhar/Desktop/xl/Results2017_08_18.xls'\n",
    "        df=pd.read_csv(filepath,delimiter='\\t')\n",
    "    \n",
    "    except IOError:\n",
    "        print \"No file given or file non existant!!\"\n",
    "        return \n",
    "    \n",
    "    print filepath\n",
    "    \n",
    "    df2=df[['Area1','%Area1','Area2','%Area2','Area3','%Area3','Area4','%Area4','Area5','%Area5']]\n",
    "    df2.columns=['ROI1','p1','ROI2','p2','ROI3','p3','ROI4','p4','ROI5','p5']\n",
    "\n",
    "    df2.head()\n",
    "\n",
    "    for i in range(1,6):\n",
    "        df2['x'+str(i)] = df2['p'+str(i)]*df2['ROI'+str(i)]/100\n",
    "        df2['y'+str(i)] = df2['ROI'+str(i)]-df2['x'+str(i)]\n",
    "        df2['%dy'+str(i)] = 100*(df2['y'+str(i)][0]-df2['y'+str(i)])/df2['y'+str(i)][0]\n",
    "       \n",
    "\n",
    "    df3=df2[['%dy1','%dy2','%dy3','%dy4','%dy5']]\n",
    "    df3.columns=['0%','15%','30%','45%','60%']\n",
    "    tit=filepath.split('/')[-1].split('Results')[-1]\n",
    "    #df3.columns=['tit_0%','tit_15%','tit_30%','tit_45%','tit_60%']\n",
    " \n",
    "    return df3\n",
    "    print df3\n",
    "\n"
   ]
  },
  {
   "cell_type": "code",
   "execution_count": 3,
   "metadata": {},
   "outputs": [
    {
     "name": "stdout",
     "output_type": "stream",
     "text": [
      "/home/subhar/Desktop/xl/Results2017_08_04.xls\n",
      "/home/subhar/Desktop/xl/Results2017_08_04.xls\n"
     ]
    },
    {
     "name": "stderr",
     "output_type": "stream",
     "text": [
      "/usr/local/lib/python2.7/dist-packages/ipykernel_launcher.py:22: SettingWithCopyWarning: \n",
      "A value is trying to be set on a copy of a slice from a DataFrame.\n",
      "Try using .loc[row_indexer,col_indexer] = value instead\n",
      "\n",
      "See the caveats in the documentation: http://pandas.pydata.org/pandas-docs/stable/indexing.html#indexing-view-versus-copy\n",
      "/usr/local/lib/python2.7/dist-packages/ipykernel_launcher.py:23: SettingWithCopyWarning: \n",
      "A value is trying to be set on a copy of a slice from a DataFrame.\n",
      "Try using .loc[row_indexer,col_indexer] = value instead\n",
      "\n",
      "See the caveats in the documentation: http://pandas.pydata.org/pandas-docs/stable/indexing.html#indexing-view-versus-copy\n",
      "/usr/local/lib/python2.7/dist-packages/ipykernel_launcher.py:24: SettingWithCopyWarning: \n",
      "A value is trying to be set on a copy of a slice from a DataFrame.\n",
      "Try using .loc[row_indexer,col_indexer] = value instead\n",
      "\n",
      "See the caveats in the documentation: http://pandas.pydata.org/pandas-docs/stable/indexing.html#indexing-view-versus-copy\n"
     ]
    },
    {
     "name": "stdout",
     "output_type": "stream",
     "text": [
      "/home/subhar/Desktop/xl/Results2017_08_10.xls\n",
      "/home/subhar/Desktop/xl/Results2017_08_10.xls\n",
      "/home/subhar/Desktop/xl/Results2017_08_11.xls\n",
      "/home/subhar/Desktop/xl/Results2017_08_11.xls\n",
      "/home/subhar/Desktop/xl/Results2017_08_12.xls\n",
      "/home/subhar/Desktop/xl/Results2017_08_12.xls\n",
      "/home/subhar/Desktop/xl/Results2017_08_14.xls\n",
      "/home/subhar/Desktop/xl/Results2017_08_14.xls\n",
      "/home/subhar/Desktop/xl/Results2017_08_16.xls\n",
      "/home/subhar/Desktop/xl/Results2017_08_16.xls\n",
      "/home/subhar/Desktop/xl/Results2017_08_18.xls\n",
      "/home/subhar/Desktop/xl/Results2017_08_18.xls\n",
      "/home/subhar/Desktop/xl/Results2017_08_19.xls\n",
      "/home/subhar/Desktop/xl/Results2017_08_19.xls\n",
      "/home/subhar/Desktop/xl/Results2017_08_21.xls\n",
      "/home/subhar/Desktop/xl/Results2017_08_21.xls\n",
      "/home/subhar/Desktop/xl/Results2017_08_22.xls\n",
      "/home/subhar/Desktop/xl/Results2017_08_22.xls\n"
     ]
    },
    {
     "name": "stderr",
     "output_type": "stream",
     "text": [
      "/usr/local/lib/python2.7/dist-packages/ipykernel_launcher.py:21: DeprecationWarning: \n",
      ".ix is deprecated. Please use\n",
      ".loc for label based indexing or\n",
      ".iloc for positional indexing\n",
      "\n",
      "See the documentation here:\n",
      "http://pandas.pydata.org/pandas-docs/stable/indexing.html#ix-indexer-is-deprecated\n"
     ]
    }
   ],
   "source": [
    "#collecting all the dataframe into one big list\n",
    "xlFilePaths=gui.fileopenbox(default='/home/subhar/Desktop/xl/',multiple=True)\n",
    "a=[]\n",
    "for filename in xlFilePaths:\n",
    "    print filename\n",
    "    a.append(dyPlotter(filename))\n",
    "    \n",
    "#     print a1\n",
    "# a\n",
    " \n",
    "#finding the shortest time length in all datasets\n",
    "b=[]\n",
    "for i in range(len(a)):\n",
    "    b.append(a[i].shape[0])\n",
    "mb=min(b)\n",
    "\n",
    "\n",
    "# cuttinf up the dataset to its shortest length\n",
    "c=[]\n",
    "for i in range(len(a)):\n",
    "    c.append(a[i].ix[0:mb-1])\n",
    "    \n",
    "# stacking the datset into a huge ndarray for the tsplot\n",
    "d=np.dstack(c)\n",
    "\n",
    "#reordering columns to make it meaningful for tsplot\n",
    "d=d.transpose((2,0,1))"
   ]
  },
  {
   "cell_type": "code",
   "execution_count": null,
   "metadata": {
    "collapsed": true
   },
   "outputs": [],
   "source": []
  },
  {
   "cell_type": "code",
   "execution_count": 5,
   "metadata": {},
   "outputs": [],
   "source": [
    "#the ts plot itself\n",
    "plt.figure(figsize=[18,18])\n",
    "# sns.set_palette(sns.cubehelix_palette(8, start=.5, rot=-.75))\n",
    "sns.set_palette('plasma_r')\n",
    "\n",
    "# /color='inferno_r',\n",
    "f=sns.tsplot(data=d,value='',condition=['0%','15%','30%','45%','60%'],)\n",
    "f.set_xlabel('Time (minutes)',fontsize=24)\n",
    "f.set_ylabel('Percentage Area built (%)' ,fontsize=24)\n",
    "sns.despine(offset=20, trim=True);\n",
    "\n",
    "plt.savefig('tsplot2.png',dpi=300,transparent = True)\n",
    "plt.savefig('tsplot2.svg',dpi=300,transparent = True)\n",
    "plt.show()"
   ]
  },
  {
   "cell_type": "code",
   "execution_count": 21,
   "metadata": {},
   "outputs": [
    {
     "data": {
      "text/plain": [
       "array([[[  0.00000000e+00,   0.00000000e+00,   0.00000000e+00,\n",
       "           0.00000000e+00,   0.00000000e+00],\n",
       "        [  6.86118947e-01,   3.33629569e-01,   5.27417329e-01,\n",
       "           4.99514757e-02,   1.11442426e-01],\n",
       "        [  2.05688764e-01,   3.40914058e-01,   7.82754290e-01,\n",
       "           1.47000057e-01,   1.46079937e-01],\n",
       "        ..., \n",
       "        [ -1.25910907e+00,   4.95345212e-02,   4.57876378e+01,\n",
       "           6.50510932e+00,   4.96972983e-01],\n",
       "        [ -9.46168312e-01,  -9.17845540e-02,   4.57220594e+01,\n",
       "           6.64354627e+00,   4.98478961e-01],\n",
       "        [ -1.11365773e+00,  -1.69000131e-01,   4.58225199e+01,\n",
       "           6.65781812e+00,   5.02996898e-01]],\n",
       "\n",
       "       [[  0.00000000e+00,   0.00000000e+00,   0.00000000e+00,\n",
       "           0.00000000e+00,   0.00000000e+00],\n",
       "        [ -9.17094644e-02,  -1.69491525e-01,   2.02254463e-01,\n",
       "          -3.45901072e-02,  -9.00711562e-03],\n",
       "        [ -7.05457419e-02,   7.81134856e-02,   4.42263093e-01,\n",
       "           1.15300357e-02,   3.00237187e-03],\n",
       "        ..., \n",
       "        [ -1.15553925e+00,   9.28518791e-01,   2.10196322e+01,\n",
       "           9.78611784e+00,   5.11904404e-01],\n",
       "        [ -1.14143010e+00,   8.38614591e-01,   2.10492962e+01,\n",
       "           9.80917791e+00,   5.62944726e-01],\n",
       "        [ -1.06382979e+00,   9.87472366e-01,   2.10155871e+01,\n",
       "           9.80053038e+00,   4.65367640e-01]],\n",
       "\n",
       "       [[  0.00000000e+00,   0.00000000e+00,   0.00000000e+00,\n",
       "           0.00000000e+00,   0.00000000e+00],\n",
       "        [  7.05069449e-03,  -5.00590667e-01,   1.82089958e-01,\n",
       "           1.18456357e-01,  -1.06726794e-01],\n",
       "        [ -1.22682084e-01,  -6.32014176e-01,   3.65538796e-01,\n",
       "           1.95524348e-01,  -1.39797069e-01],\n",
       "        ..., \n",
       "        [ -1.42847070e+00,   3.08919079e+00,   2.05951896e+01,\n",
       "           2.26066107e+00,  -2.20668921e+00],\n",
       "        [ -1.61601918e+00,   3.22061429e+00,   2.05734475e+01,\n",
       "           2.12936005e+00,  -2.24877865e+00],\n",
       "        [ -1.48205598e+00,   3.06556409e+00,   2.06658513e+01,\n",
       "           2.07940857e+00,  -2.22923713e+00]],\n",
       "\n",
       "       ..., \n",
       "       [[  0.00000000e+00,   0.00000000e+00,   0.00000000e+00,\n",
       "           0.00000000e+00,   0.00000000e+00],\n",
       "        [ -3.98941475e-03,  -7.41393540e-02,   4.93172478e-01,\n",
       "           4.80409950e-02,   1.16476515e-01],\n",
       "        [ -3.45749279e-02,   8.67290556e-02,   1.18520483e+00,\n",
       "           4.80409950e-02,   1.15073184e-01],\n",
       "        ..., \n",
       "        [ -3.51068498e-01,   7.20410704e-01,   2.63157895e+01,\n",
       "           4.78942031e+00,   8.37788911e-01],\n",
       "        [ -2.79259033e-01,   8.50504287e-01,   2.64258253e+01,\n",
       "           5.02962528e+00,   8.58838884e-01],\n",
       "        [ -2.32715861e-01,   1.02116469e+00,   2.65597242e+01,\n",
       "           5.14438988e+00,   9.09358818e-01]],\n",
       "\n",
       "       [[  0.00000000e+00,   0.00000000e+00,   0.00000000e+00,\n",
       "           0.00000000e+00,   0.00000000e+00],\n",
       "        [ -1.61823208e-01,   2.39316239e-01,   7.42644959e-01,\n",
       "          -7.51222444e-02,   6.91319008e-02],\n",
       "        [ -1.32155620e-01,   1.55270655e-01,   1.71236789e+00,\n",
       "          -7.10246674e-02,   1.83411166e-01],\n",
       "        ..., \n",
       "        [  6.82354528e-01,   4.14957265e+00,   3.71236789e+01,\n",
       "           8.98735215e+00,   1.39110315e+00],\n",
       "        [  6.40550199e-01,   3.99572650e+00,   3.72536418e+01,\n",
       "           9.05427924e+00,   1.35865348e+00],\n",
       "        [  6.60778100e-01,   4.28774929e+00,   3.74250214e+01,\n",
       "           9.06657197e+00,   1.47716531e+00]],\n",
       "\n",
       "       [[  0.00000000e+00,   0.00000000e+00,   0.00000000e+00,\n",
       "           0.00000000e+00,   0.00000000e+00],\n",
       "        [ -4.46785178e-02,  -4.35405489e-02,   7.00480827e-01,\n",
       "           9.95801486e-02,  -3.99526276e-02],\n",
       "        [ -5.41557791e-02,   5.89904211e-02,   1.10094692e+00,\n",
       "           2.48950371e-01,  -4.28063867e-02],\n",
       "        ..., \n",
       "        [ -2.36931534e-01,   2.62788281e+00,   2.17966061e+01,\n",
       "           3.07783400e+01,   9.34606110e-01],\n",
       "        [ -2.39639323e-01,   2.63631001e+00,   2.19077723e+01,\n",
       "           3.08483152e+01,   8.94653482e-01],\n",
       "        [ -2.46408795e-01,   2.43686620e+00,   2.19854546e+01,\n",
       "           3.07581548e+01,   9.10349157e-01]]])"
      ]
     },
     "execution_count": 21,
     "metadata": {},
     "output_type": "execute_result"
    }
   ],
   "source": [
    "d"
   ]
  },
  {
   "cell_type": "code",
   "execution_count": 6,
   "metadata": {
    "collapsed": true
   },
   "outputs": [],
   "source": []
  },
  {
   "cell_type": "code",
   "execution_count": 7,
   "metadata": {
    "collapsed": true
   },
   "outputs": [],
   "source": []
  }
 ],
 "metadata": {
  "kernelspec": {
   "display_name": "Python 2",
   "language": "python",
   "name": "python2"
  },
  "language_info": {
   "codemirror_mode": {
    "name": "ipython",
    "version": 2
   },
   "file_extension": ".py",
   "mimetype": "text/x-python",
   "name": "python",
   "nbconvert_exporter": "python",
   "pygments_lexer": "ipython2",
   "version": "2.7.12"
  }
 },
 "nbformat": 4,
 "nbformat_minor": 2
}
