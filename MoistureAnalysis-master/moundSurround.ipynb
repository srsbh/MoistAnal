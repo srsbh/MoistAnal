{
 "cells": [
  {
   "cell_type": "code",
   "execution_count": 1,
   "metadata": {},
   "outputs": [
    {
     "name": "stdout",
     "output_type": "stream",
     "text": [
      "Using matplotlib backend: TkAgg\n"
     ]
    }
   ],
   "source": [
    "import numpy as np\n",
    "import pandas as pd\n",
    "import easygui as gui\n",
    "import matplotlib.pyplot as plt\n",
    "import seaborn as sns\n",
    "%matplotlib "
   ]
  },
  {
   "cell_type": "code",
   "execution_count": 2,
   "metadata": {},
   "outputs": [
    {
     "data": {
      "text/html": [
       "<div>\n",
       "<style scoped>\n",
       "    .dataframe tbody tr th:only-of-type {\n",
       "        vertical-align: middle;\n",
       "    }\n",
       "\n",
       "    .dataframe tbody tr th {\n",
       "        vertical-align: top;\n",
       "    }\n",
       "\n",
       "    .dataframe thead th {\n",
       "        text-align: right;\n",
       "    }\n",
       "</style>\n",
       "<table border=\"1\" class=\"dataframe\">\n",
       "  <thead>\n",
       "    <tr style=\"text-align: right;\">\n",
       "      <th></th>\n",
       "      <th>Mound Location</th>\n",
       "      <th>Outside</th>\n",
       "      <th>Inside</th>\n",
       "    </tr>\n",
       "  </thead>\n",
       "  <tbody>\n",
       "    <tr>\n",
       "      <th>0</th>\n",
       "      <td>Admin</td>\n",
       "      <td>19.611231</td>\n",
       "      <td>13.958272</td>\n",
       "    </tr>\n",
       "    <tr>\n",
       "      <th>1</th>\n",
       "      <td>Admin</td>\n",
       "      <td>21.191136</td>\n",
       "      <td>15.663849</td>\n",
       "    </tr>\n",
       "    <tr>\n",
       "      <th>2</th>\n",
       "      <td>Admin</td>\n",
       "      <td>20.785414</td>\n",
       "      <td>13.308573</td>\n",
       "    </tr>\n",
       "    <tr>\n",
       "      <th>3</th>\n",
       "      <td>Canteen</td>\n",
       "      <td>18.328100</td>\n",
       "      <td>12.428220</td>\n",
       "    </tr>\n",
       "    <tr>\n",
       "      <th>4</th>\n",
       "      <td>Canteen</td>\n",
       "      <td>20.456642</td>\n",
       "      <td>15.331107</td>\n",
       "    </tr>\n",
       "    <tr>\n",
       "      <th>5</th>\n",
       "      <td>Canteen</td>\n",
       "      <td>22.337908</td>\n",
       "      <td>12.905428</td>\n",
       "    </tr>\n",
       "  </tbody>\n",
       "</table>\n",
       "</div>"
      ],
      "text/plain": [
       "  Mound Location    Outside     Inside\n",
       "0          Admin  19.611231  13.958272\n",
       "1          Admin  21.191136  15.663849\n",
       "2          Admin  20.785414  13.308573\n",
       "3        Canteen  18.328100  12.428220\n",
       "4        Canteen  20.456642  15.331107\n",
       "5        Canteen  22.337908  12.905428"
      ]
     },
     "execution_count": 2,
     "metadata": {},
     "output_type": "execute_result"
    }
   ],
   "source": [
    "df=pd.read_csv('To plot - InsideOutside.csv')\n",
    "# df.columns=['Mound','percent']\n",
    "rn=dict(E='Admin',G='SEM',F='SLC',H='Canteen')\n",
    "df.Mound=df.Mound.map(rn)\n",
    "df.columns=['Mound Location','Outside','Inside']\n",
    "df"
   ]
  },
  {
   "cell_type": "code",
   "execution_count": 5,
   "metadata": {},
   "outputs": [
    {
     "data": {
      "text/html": [
       "<div>\n",
       "<style scoped>\n",
       "    .dataframe tbody tr th:only-of-type {\n",
       "        vertical-align: middle;\n",
       "    }\n",
       "\n",
       "    .dataframe tbody tr th {\n",
       "        vertical-align: top;\n",
       "    }\n",
       "\n",
       "    .dataframe thead th {\n",
       "        text-align: right;\n",
       "    }\n",
       "</style>\n",
       "<table border=\"1\" class=\"dataframe\">\n",
       "  <thead>\n",
       "    <tr style=\"text-align: right;\">\n",
       "      <th></th>\n",
       "      <th>Mound Location</th>\n",
       "      <th>variable</th>\n",
       "      <th>value</th>\n",
       "    </tr>\n",
       "  </thead>\n",
       "  <tbody>\n",
       "    <tr>\n",
       "      <th>0</th>\n",
       "      <td>Admin</td>\n",
       "      <td>Outside</td>\n",
       "      <td>19.611231</td>\n",
       "    </tr>\n",
       "    <tr>\n",
       "      <th>1</th>\n",
       "      <td>Admin</td>\n",
       "      <td>Outside</td>\n",
       "      <td>21.191136</td>\n",
       "    </tr>\n",
       "    <tr>\n",
       "      <th>2</th>\n",
       "      <td>Admin</td>\n",
       "      <td>Outside</td>\n",
       "      <td>20.785414</td>\n",
       "    </tr>\n",
       "    <tr>\n",
       "      <th>3</th>\n",
       "      <td>Canteen</td>\n",
       "      <td>Outside</td>\n",
       "      <td>18.328100</td>\n",
       "    </tr>\n",
       "    <tr>\n",
       "      <th>4</th>\n",
       "      <td>Canteen</td>\n",
       "      <td>Outside</td>\n",
       "      <td>20.456642</td>\n",
       "    </tr>\n",
       "    <tr>\n",
       "      <th>5</th>\n",
       "      <td>Canteen</td>\n",
       "      <td>Outside</td>\n",
       "      <td>22.337908</td>\n",
       "    </tr>\n",
       "    <tr>\n",
       "      <th>6</th>\n",
       "      <td>Admin</td>\n",
       "      <td>Inside</td>\n",
       "      <td>13.958272</td>\n",
       "    </tr>\n",
       "    <tr>\n",
       "      <th>7</th>\n",
       "      <td>Admin</td>\n",
       "      <td>Inside</td>\n",
       "      <td>15.663849</td>\n",
       "    </tr>\n",
       "    <tr>\n",
       "      <th>8</th>\n",
       "      <td>Admin</td>\n",
       "      <td>Inside</td>\n",
       "      <td>13.308573</td>\n",
       "    </tr>\n",
       "    <tr>\n",
       "      <th>9</th>\n",
       "      <td>Canteen</td>\n",
       "      <td>Inside</td>\n",
       "      <td>12.428220</td>\n",
       "    </tr>\n",
       "    <tr>\n",
       "      <th>10</th>\n",
       "      <td>Canteen</td>\n",
       "      <td>Inside</td>\n",
       "      <td>15.331107</td>\n",
       "    </tr>\n",
       "    <tr>\n",
       "      <th>11</th>\n",
       "      <td>Canteen</td>\n",
       "      <td>Inside</td>\n",
       "      <td>12.905428</td>\n",
       "    </tr>\n",
       "  </tbody>\n",
       "</table>\n",
       "</div>"
      ],
      "text/plain": [
       "   Mound Location variable      value\n",
       "0           Admin  Outside  19.611231\n",
       "1           Admin  Outside  21.191136\n",
       "2           Admin  Outside  20.785414\n",
       "3         Canteen  Outside  18.328100\n",
       "4         Canteen  Outside  20.456642\n",
       "5         Canteen  Outside  22.337908\n",
       "6           Admin   Inside  13.958272\n",
       "7           Admin   Inside  15.663849\n",
       "8           Admin   Inside  13.308573\n",
       "9         Canteen   Inside  12.428220\n",
       "10        Canteen   Inside  15.331107\n",
       "11        Canteen   Inside  12.905428"
      ]
     },
     "execution_count": 5,
     "metadata": {},
     "output_type": "execute_result"
    }
   ],
   "source": [
    "df2=pd.melt(df,id_vars='Mound Location')\n",
    "plt.figure(figsize=[18,18])\n",
    "\n",
    "f=sns.stripplot(x='variable',y='value',data=df2,hue='Mound Location',jitter=0.052,size=15,alpha=0.8)\n",
    "plt.axhline(y=30,ls='dashed',c=plt.cm.plasma_r(0.3,alpha=0.5),lw=5)\n",
    "f.set_ylabel('Soil Moisture (w/w %)',fontsize=24)\n",
    "f.set_xlabel('Sample Location',fontsize=24)\n",
    "\n",
    "plt.ylim(0,30)\n",
    "sns.despine(offset=0, trim=True);\n",
    "\n",
    "plt.savefig('moundSurround.png',dpi=300,transparent = True)\n",
    "plt.savefig('moundSurround.svg',dpi=300,transparent = True)\n",
    "df2"
   ]
  },
  {
   "cell_type": "code",
   "execution_count": 35,
   "metadata": {},
   "outputs": [
    {
     "data": {
      "text/plain": [
       "<matplotlib.axes._subplots.AxesSubplot at 0x7fc2dcde7fd0>"
      ]
     },
     "execution_count": 35,
     "metadata": {},
     "output_type": "execute_result"
    }
   ],
   "source": [
    "sns.pointplot(x='variable',y='value',data=df2,hue='Mound',jitter=0.052,)\n"
   ]
  },
  {
   "cell_type": "code",
   "execution_count": null,
   "metadata": {
    "collapsed": true
   },
   "outputs": [],
   "source": []
  }
 ],
 "metadata": {
  "kernelspec": {
   "display_name": "Python 2",
   "language": "python",
   "name": "python2"
  },
  "language_info": {
   "codemirror_mode": {
    "name": "ipython",
    "version": 2
   },
   "file_extension": ".py",
   "mimetype": "text/x-python",
   "name": "python",
   "nbconvert_exporter": "python",
   "pygments_lexer": "ipython2",
   "version": "2.7.12"
  }
 },
 "nbformat": 4,
 "nbformat_minor": 2
}
