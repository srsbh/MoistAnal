{
 "cells": [
  {
   "cell_type": "markdown",
   "metadata": {},
   "source": [
    "finds the change in building in the empty area i.e the empty space in the ROI apart from the initial level of soil that is filled at the very first"
   ]
  },
  {
   "cell_type": "code",
   "execution_count": 1,
   "metadata": {
    "collapsed": true
   },
   "outputs": [],
   "source": [
    "import numpy as np\n",
    "import pandas as pd\n",
    "import easygui \n",
    "import matplotlib.pyplot as plt\n",
    "import pylab\n",
    "import matplotlib.ticker as ticker\n",
    "\n",
    "\n",
    "import plotly.plotly as py\n",
    "import cufflinks as cf\n",
    "#%matplotlib inline"
   ]
  },
  {
   "cell_type": "code",
   "execution_count": 16,
   "metadata": {
    "collapsed": true
   },
   "outputs": [],
   "source": [
    "dp='/home/subhar/Desktop/data_acquisition/Mound_E/0-60%/new_setup_ completeBlack/2017_08_04'\n",
    "# path=easygui.fileopenbox(default=dp,filetypes=['*.csv'])\n",
    "\n",
    "path='/home/subhar/Desktop/data_acquisition/Mound_E/0-60%/new_setup_ completeBlack/2017_08_04/Results2017_08_04 change.csv'\n",
    "data_date=path.split('/')[-2]"
   ]
  },
  {
   "cell_type": "code",
   "execution_count": 2,
   "metadata": {},
   "outputs": [
    {
     "ename": "NameError",
     "evalue": "name 'path' is not defined",
     "output_type": "error",
     "traceback": [
      "\u001b[0;31m---------------------------------------------------------------------------\u001b[0m",
      "\u001b[0;31mNameError\u001b[0m                                 Traceback (most recent call last)",
      "\u001b[0;32m<ipython-input-2-f26388b2078f>\u001b[0m in \u001b[0;36m<module>\u001b[0;34m()\u001b[0m\n\u001b[0;32m----> 1\u001b[0;31m \u001b[0mdf\u001b[0m\u001b[0;34m=\u001b[0m\u001b[0mpd\u001b[0m\u001b[0;34m.\u001b[0m\u001b[0mread_csv\u001b[0m\u001b[0;34m(\u001b[0m\u001b[0mpath\u001b[0m\u001b[0;34m)\u001b[0m\u001b[0;34m\u001b[0m\u001b[0m\n\u001b[0m\u001b[1;32m      2\u001b[0m \u001b[0mdf\u001b[0m\u001b[0;34m.\u001b[0m\u001b[0mhead\u001b[0m\u001b[0;34m(\u001b[0m\u001b[0;34m)\u001b[0m\u001b[0;34m\u001b[0m\u001b[0m\n",
      "\u001b[0;31mNameError\u001b[0m: name 'path' is not defined"
     ]
    }
   ],
   "source": [
    "df=pd.read_csv(path)\n",
    "df.head()"
   ]
  },
  {
   "cell_type": "code",
   "execution_count": 3,
   "metadata": {
    "scrolled": true
   },
   "outputs": [
    {
     "ename": "NameError",
     "evalue": "name 'df' is not defined",
     "output_type": "error",
     "traceback": [
      "\u001b[0;31m---------------------------------------------------------------------------\u001b[0m",
      "\u001b[0;31mNameError\u001b[0m                                 Traceback (most recent call last)",
      "\u001b[0;32m<ipython-input-3-0629205cf420>\u001b[0m in \u001b[0;36m<module>\u001b[0;34m()\u001b[0m\n\u001b[0;32m----> 1\u001b[0;31m \u001b[0mdf1\u001b[0m \u001b[0;34m=\u001b[0m \u001b[0mdf\u001b[0m\u001b[0;34m.\u001b[0m\u001b[0mrename\u001b[0m\u001b[0;34m(\u001b[0m\u001b[0mindex\u001b[0m\u001b[0;34m=\u001b[0m\u001b[0mstr\u001b[0m\u001b[0;34m,\u001b[0m \u001b[0mcolumns\u001b[0m\u001b[0;34m=\u001b[0m\u001b[0;34m{\u001b[0m\u001b[0;34m\"Absolute 0%\"\u001b[0m\u001b[0;34m:\u001b[0m \u001b[0;34m\"0%\"\u001b[0m\u001b[0;34m,\u001b[0m\u001b[0;34m\"Absolute 15%\"\u001b[0m\u001b[0;34m:\u001b[0m \u001b[0;34m\"15%\"\u001b[0m\u001b[0;34m,\u001b[0m\u001b[0;34m\"Absolute 30%\"\u001b[0m\u001b[0;34m:\u001b[0m \u001b[0;34m\"30%\"\u001b[0m\u001b[0;34m,\u001b[0m\u001b[0;34m\"Absolute 45%\"\u001b[0m\u001b[0;34m:\u001b[0m \u001b[0;34m\"45%\"\u001b[0m\u001b[0;34m,\u001b[0m\u001b[0;34m\"Absolute 60%\"\u001b[0m\u001b[0;34m:\u001b[0m \u001b[0;34m\"60%\"\u001b[0m\u001b[0;34m}\u001b[0m\u001b[0;34m)\u001b[0m\u001b[0;34m\u001b[0m\u001b[0m\n\u001b[0m\u001b[1;32m      2\u001b[0m \u001b[0;34m\u001b[0m\u001b[0m\n\u001b[1;32m      3\u001b[0m \u001b[0mdf2\u001b[0m\u001b[0;34m=\u001b[0m\u001b[0mdf1\u001b[0m\u001b[0;34m[\u001b[0m\u001b[0;34m[\u001b[0m\u001b[0;34m'0%'\u001b[0m\u001b[0;34m,\u001b[0m\u001b[0;34m'15%'\u001b[0m\u001b[0;34m,\u001b[0m\u001b[0;34m'30%'\u001b[0m\u001b[0;34m,\u001b[0m\u001b[0;34m'45%'\u001b[0m\u001b[0;34m,\u001b[0m\u001b[0;34m'60%'\u001b[0m\u001b[0;34m]\u001b[0m\u001b[0;34m]\u001b[0m\u001b[0;34m\u001b[0m\u001b[0m\n\u001b[1;32m      4\u001b[0m \u001b[0;34m\u001b[0m\u001b[0m\n\u001b[1;32m      5\u001b[0m \u001b[0mdf2\u001b[0m\u001b[0;34m\u001b[0m\u001b[0m\n",
      "\u001b[0;31mNameError\u001b[0m: name 'df' is not defined"
     ]
    }
   ],
   "source": [
    "df1 = df.rename(index=str, columns={\"Absolute 0%\": \"0%\",\"Absolute 15%\": \"15%\",\"Absolute 30%\": \"30%\",\"Absolute 45%\": \"45%\",\"Absolute 60%\": \"60%\"})\n",
    "\n",
    "df2=df1[['0%','15%','30%','45%','60%']]\n",
    "\n",
    "df2"
   ]
  },
  {
   "cell_type": "code",
   "execution_count": 12,
   "metadata": {
    "collapsed": true
   },
   "outputs": [],
   "source": [
    "#a=df2.plot()\n",
    "#plt.yscale(\"linear\")\n"
   ]
  },
  {
   "cell_type": "code",
   "execution_count": 21,
   "metadata": {},
   "outputs": [
    {
     "name": "stdout",
     "output_type": "stream",
     "text": [
      "/home/subhar/Desktop/data_acquisition/Mound_E/0-60%/new_setup_ completeBlack/2017_08_04/Results2017_08_04 change.csv\n"
     ]
    }
   ],
   "source": [
    "print path\n"
   ]
  },
  {
   "cell_type": "code",
   "execution_count": 23,
   "metadata": {
    "collapsed": true,
    "scrolled": true
   },
   "outputs": [],
   "source": [
    "a=df2.plot(figsize=(8,6))\n",
    "#a.scale_x=20\n",
    "#a.scale_y=2\n",
    "#pylab.ylim([20,70])\n",
    "#pylab.xlim([0,200])\n",
    "#plt.xticks(np.arange(0,200,5.0))\n",
    "#ticks_x = ticker.FuncFormatter(5)\n",
    "#a.xaxis.set_major_formatter(ticks_x)\n",
    "#tick_spacing=20\n",
    "#tick_spacing1=5\n",
    "#a.xaxis.set_major_locator(ticker.LinearLocator(10))\n",
    "plt.xticks(range(0,200,20), range(0,200,20))\n",
    "\n",
    "#a.xaxis.set_major_locator(ticker.MultipleLocator(tick_spacing))\n",
    "#a.yaxis.set_major_locator(ticker.MultipleLocator(tick_spacing1))\n",
    "#plt.yscale('linear')\n",
    "#plt.xscale('linear')\n",
    "\n",
    "a.set_xlabel(\"Time (mins)\")\n",
    "a.set_ylabel(\"Area fraction built (percentage)\")\n",
    "a.set_title(data_date)\n",
    "plt.savefig(data_date+'.png',dpi=300)\n",
    "# plt.show()"
   ]
  },
  {
   "cell_type": "code",
   "execution_count": null,
   "metadata": {
    "collapsed": true
   },
   "outputs": [],
   "source": []
  },
  {
   "cell_type": "code",
   "execution_count": null,
   "metadata": {
    "collapsed": true
   },
   "outputs": [],
   "source": [
    "sns.set(style=\"darkgrid\", color_codes=True)\n",
    "\n",
    "a=df2.plot(figsize=(10,10))\n",
    "max_xticks = 6\n",
    "max_yticks = 8\n",
    "\n",
    "xloc = plt.MaxNLocator(max_xticks)\n",
    "yloc = plt.MaxNLocator(max_yticks)\n",
    "\n",
    "a.xaxis.set_major_locator(xloc)\n",
    "a.yaxis.set_major_locator(yloc)\n"
   ]
  },
  {
   "cell_type": "code",
   "execution_count": null,
   "metadata": {
    "collapsed": true,
    "scrolled": false
   },
   "outputs": [],
   "source": [
    "a.savefig('2017_07_06'+'.png',dpi=300)#savefigure\n"
   ]
  },
  {
   "cell_type": "code",
   "execution_count": null,
   "metadata": {
    "collapsed": true
   },
   "outputs": [],
   "source": []
  },
  {
   "cell_type": "code",
   "execution_count": null,
   "metadata": {
    "collapsed": true
   },
   "outputs": [],
   "source": []
  },
  {
   "cell_type": "code",
   "execution_count": null,
   "metadata": {
    "collapsed": true
   },
   "outputs": [],
   "source": []
  },
  {
   "cell_type": "code",
   "execution_count": null,
   "metadata": {
    "collapsed": true,
    "scrolled": true
   },
   "outputs": [],
   "source": [
    "df2.iplot(kind='scatter')\n",
    "a.set_xlabel(\"Time (mins)\")\n",
    "a.set_ylabel(\"Area fraction built (percentage)\")\n"
   ]
  },
  {
   "cell_type": "code",
   "execution_count": null,
   "metadata": {
    "collapsed": true
   },
   "outputs": [],
   "source": []
  },
  {
   "cell_type": "code",
   "execution_count": null,
   "metadata": {
    "collapsed": true
   },
   "outputs": [],
   "source": [
    "df2"
   ]
  },
  {
   "cell_type": "code",
   "execution_count": null,
   "metadata": {
    "collapsed": true
   },
   "outputs": [],
   "source": []
  }
 ],
 "metadata": {
  "kernelspec": {
   "display_name": "Python 2",
   "language": "python",
   "name": "python2"
  },
  "language_info": {
   "codemirror_mode": {
    "name": "ipython",
    "version": 2
   },
   "file_extension": ".py",
   "mimetype": "text/x-python",
   "name": "python",
   "nbconvert_exporter": "python",
   "pygments_lexer": "ipython2",
   "version": "2.7.12"
  }
 },
 "nbformat": 4,
 "nbformat_minor": 2
}
